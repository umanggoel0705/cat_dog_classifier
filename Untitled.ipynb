{
 "cells": [
  {
   "cell_type": "code",
   "execution_count": 1,
   "id": "3456776b-f61d-477b-b556-7df944ef854d",
   "metadata": {},
   "outputs": [],
   "source": [
    "import torch\n",
    "import numpy as np\n",
    "import pandas as pd\n",
    "from torch import nn\n",
    "import cv2 as cv\n",
    "from PIL import Image \n",
    "from torch.utils.data import DataLoader\n",
    "import torchvision.transforms as T\n",
    "from torchvision import datasets"
   ]
  },
  {
   "cell_type": "code",
   "execution_count": 2,
   "id": "bbcefe1d-1cdc-4f1c-b663-7cd00370782f",
   "metadata": {},
   "outputs": [],
   "source": [
    "data_dir = 'images/PetImages'\n",
    "transform = T.Compose([T.Resize((64, 64)), T.ToTensor()])\n",
    "dataset = datasets.ImageFolder(\n",
    "    root:=data_dir,\n",
    "    transform = transform\n",
    ")"
   ]
  },
  {
   "cell_type": "code",
   "execution_count": 3,
   "id": "9349cdd6-4033-4e1e-a541-490a85c20bfc",
   "metadata": {},
   "outputs": [],
   "source": [
    "batch_size = 32\n",
    "data = DataLoader(dataset, batch_size=batch_size)"
   ]
  },
  {
   "cell_type": "code",
   "execution_count": 5,
   "id": "a3a95eec-0474-475a-90b1-c2b692658a5f",
   "metadata": {},
   "outputs": [],
   "source": [
    "train_dataset, test_dataset = torch.utils.data.random_split(dataset, [0.8, 0.2])"
   ]
  },
  {
   "cell_type": "code",
   "execution_count": 6,
   "id": "7755db84-5abb-442a-ba70-f62eb5ab20d5",
   "metadata": {},
   "outputs": [],
   "source": [
    "train_dl = DataLoader(train_dataset, batch_size=batch_size, shuffle=True)\n",
    "test_dl = DataLoader(test_dataset, batch_size=batch_size, shuffle=False)"
   ]
  },
  {
   "cell_type": "code",
   "execution_count": 7,
   "id": "5dbad7d4-9227-4952-8322-b6a8bddfae0c",
   "metadata": {},
   "outputs": [
    {
     "name": "stdout",
     "output_type": "stream",
     "text": [
      "Shape of x:  torch.Size([32, 3, 64, 64])\n",
      "Shape of y:  torch.Size([32])\n"
     ]
    }
   ],
   "source": [
    "for x,y in test_dl:\n",
    "  print(\"Shape of x: \", x.shape)\n",
    "  print(\"Shape of y: \", y.shape)\n",
    "  break"
   ]
  },
  {
   "cell_type": "code",
   "execution_count": 8,
   "id": "1aee4518-0f9d-4158-a1ff-a3702aee5c05",
   "metadata": {},
   "outputs": [],
   "source": [
    "# device = (\n",
    "#     \"cuda\"\n",
    "#     if torch.cuda.is_available()\n",
    "#     else \"cpu\"\n",
    "#     )\n",
    "# print(device)\n",
    "device = (\"cuda\")"
   ]
  },
  {
   "cell_type": "code",
   "execution_count": 9,
   "id": "fb885808-8a80-4c07-92f2-25a5396299d0",
   "metadata": {},
   "outputs": [
    {
     "name": "stdout",
     "output_type": "stream",
     "text": [
      "NeuralNetwork(\n",
      "  (flatten): Flatten(start_dim=1, end_dim=-1)\n",
      "  (linear_stack): Sequential(\n",
      "    (0): Linear(in_features=12288, out_features=1024, bias=True)\n",
      "    (1): ReLU()\n",
      "    (2): Linear(in_features=1024, out_features=256, bias=True)\n",
      "    (3): ReLU()\n",
      "    (4): Linear(in_features=256, out_features=2, bias=True)\n",
      "  )\n",
      ")\n"
     ]
    }
   ],
   "source": [
    "class NeuralNetwork(nn.Module):\n",
    "    def __init__(self):\n",
    "        super().__init__()\n",
    "        self.flatten = nn.Flatten()\n",
    "        self.linear_stack = nn.Sequential(\n",
    "            nn.Linear(64*64*3, 1024),\n",
    "            nn.ReLU(),\n",
    "            # nn.Linear(1024, 256),\n",
    "            # nn.ReLU(),\n",
    "            nn.Linear(1024, 256),\n",
    "            nn.ReLU(),\n",
    "            nn.Linear(256, 2),\n",
    "          )\n",
    "    def forward(self, x):\n",
    "        x = self.flatten(x)\n",
    "        logits = self.linear_stack(x)\n",
    "        return logits\n",
    "\n",
    "model = NeuralNetwork().to(device)\n",
    "print(model)"
   ]
  },
  {
   "cell_type": "code",
   "execution_count": 10,
   "id": "6dde330f-dfba-4f0d-8901-8dfa23583d64",
   "metadata": {},
   "outputs": [],
   "source": [
    "loss_fn = nn.CrossEntropyLoss()\n",
    "optimizer = torch.optim.Adam(model.parameters(), lr=1e-3)"
   ]
  },
  {
   "cell_type": "code",
   "execution_count": 11,
   "id": "28e80bb7-1c3a-4b81-b601-94bf2c5094cb",
   "metadata": {},
   "outputs": [],
   "source": [
    "def train(dataloader, model, loss_fn, optimizer):\n",
    "    size = len(dataloader.dataset)\n",
    "    model.train()\n",
    "    for batch, (x,y) in enumerate(dataloader):\n",
    "        x,y = x.to(device),y.to(device)\n",
    "        pred = model(x)\n",
    "        \n",
    "        # y = torch.reshape(y, [32,1]).type(torch.float)\n",
    "        # print(pred.shape)\n",
    "        # print(y.shape)\n",
    "        \n",
    "        loss = loss_fn(pred, y)\n",
    "        \n",
    "        loss.backward()\n",
    "        optimizer.step()\n",
    "        optimizer.zero_grad()\n",
    "        \n",
    "        if batch%100 == 0:\n",
    "            loss, current = loss.item(),(batch)*len(x)\n",
    "            print(f\"loss: {loss:>7f}  [{current:>5d}/{size:>5d}]\")\n",
    "            # break"
   ]
  },
  {
   "cell_type": "code",
   "execution_count": 12,
   "id": "c1ee2b16-d67a-4410-b973-ceaddcd5b0cc",
   "metadata": {},
   "outputs": [],
   "source": [
    "def test(dataloader, model, loss_fn):\n",
    "    size = len(dataloader.dataset)\n",
    "    batch_num = len(dataloader)\n",
    "    model.eval()\n",
    "    test_loss, correct = 0,0\n",
    "    with torch.no_grad():\n",
    "        for x,y in dataloader:\n",
    "            x,y = x.to(device), y.to(device)\n",
    "            pred = model(x)\n",
    "            test_loss += loss_fn(pred, y).item()\n",
    "            correct += (pred.argmax(1) == y).type(torch.float).sum().item()\n",
    "            # correct += (pred == y).type(torch.float).sum().item()\n",
    "        test_loss /= batch_num\n",
    "        correct /= size\n",
    "        print(f\"Test Error: \\n Accuracy: {(100*correct):>0.1f}%, Avg loss: {test_loss:>8f} \\n\")"
   ]
  },
  {
   "cell_type": "code",
   "execution_count": 13,
   "id": "fd8c6fe6-2369-49aa-97c9-2d38ad74da35",
   "metadata": {},
   "outputs": [
    {
     "name": "stdout",
     "output_type": "stream",
     "text": [
      "Epoch 1\n",
      "-------------------------------\n",
      "loss: 0.709935  [    0/19999]\n",
      "loss: 0.655528  [ 3200/19999]\n",
      "loss: 0.680689  [ 6400/19999]\n",
      "loss: 0.648125  [ 9600/19999]\n",
      "loss: 0.637615  [12800/19999]\n"
     ]
    },
    {
     "name": "stderr",
     "output_type": "stream",
     "text": [
      "C:\\Users\\umang\\AppData\\Local\\Programs\\Python\\Python312\\Lib\\site-packages\\PIL\\TiffImagePlugin.py:868: UserWarning: Truncated File Read\n",
      "  warnings.warn(str(msg))\n"
     ]
    },
    {
     "name": "stdout",
     "output_type": "stream",
     "text": [
      "loss: 0.696399  [16000/19999]\n",
      "loss: 0.684228  [19200/19999]\n",
      "Test Error: \n",
      " Accuracy: 60.2%, Avg loss: 0.657018 \n",
      "\n",
      "Epoch 2\n",
      "-------------------------------\n",
      "loss: 0.637824  [    0/19999]\n",
      "loss: 0.719071  [ 3200/19999]\n",
      "loss: 0.715991  [ 6400/19999]\n",
      "loss: 0.773645  [ 9600/19999]\n",
      "loss: 0.613756  [12800/19999]\n",
      "loss: 0.704276  [16000/19999]\n",
      "loss: 0.637204  [19200/19999]\n",
      "Test Error: \n",
      " Accuracy: 61.1%, Avg loss: 0.656311 \n",
      "\n",
      "Epoch 3\n",
      "-------------------------------\n",
      "loss: 0.656405  [    0/19999]\n",
      "loss: 0.688724  [ 3200/19999]\n",
      "loss: 0.620546  [ 6400/19999]\n",
      "loss: 0.614463  [ 9600/19999]\n",
      "loss: 0.625847  [12800/19999]\n",
      "loss: 0.594832  [16000/19999]\n",
      "loss: 0.761759  [19200/19999]\n",
      "Test Error: \n",
      " Accuracy: 61.1%, Avg loss: 0.658416 \n",
      "\n",
      "Epoch 4\n",
      "-------------------------------\n",
      "loss: 0.610135  [    0/19999]\n",
      "loss: 0.612291  [ 3200/19999]\n",
      "loss: 0.646351  [ 6400/19999]\n",
      "loss: 0.700498  [ 9600/19999]\n",
      "loss: 0.665085  [12800/19999]\n",
      "loss: 0.690782  [16000/19999]\n",
      "loss: 0.666692  [19200/19999]\n",
      "Test Error: \n",
      " Accuracy: 60.6%, Avg loss: 0.653546 \n",
      "\n",
      "Epoch 5\n",
      "-------------------------------\n",
      "loss: 0.596543  [    0/19999]\n",
      "loss: 0.654760  [ 3200/19999]\n",
      "loss: 0.672456  [ 6400/19999]\n",
      "loss: 0.652120  [ 9600/19999]\n",
      "loss: 0.684377  [12800/19999]\n",
      "loss: 0.657355  [16000/19999]\n",
      "loss: 0.572479  [19200/19999]\n",
      "Test Error: \n",
      " Accuracy: 59.9%, Avg loss: 0.657364 \n",
      "\n",
      "Epoch 6\n",
      "-------------------------------\n",
      "loss: 0.692227  [    0/19999]\n",
      "loss: 0.673856  [ 3200/19999]\n",
      "loss: 0.621050  [ 6400/19999]\n",
      "loss: 0.586667  [ 9600/19999]\n",
      "loss: 0.675677  [12800/19999]\n",
      "loss: 0.626060  [16000/19999]\n",
      "loss: 0.553085  [19200/19999]\n",
      "Test Error: \n",
      " Accuracy: 62.7%, Avg loss: 0.642632 \n",
      "\n",
      "Epoch 7\n",
      "-------------------------------\n",
      "loss: 0.600416  [    0/19999]\n",
      "loss: 0.693721  [ 3200/19999]\n",
      "loss: 0.641285  [ 6400/19999]\n",
      "loss: 0.771232  [ 9600/19999]\n",
      "loss: 0.585826  [12800/19999]\n",
      "loss: 0.702144  [16000/19999]\n",
      "loss: 0.692896  [19200/19999]\n",
      "Test Error: \n",
      " Accuracy: 63.5%, Avg loss: 0.635052 \n",
      "\n",
      "Epoch 8\n",
      "-------------------------------\n",
      "loss: 0.607705  [    0/19999]\n",
      "loss: 0.649969  [ 3200/19999]\n",
      "loss: 0.681691  [ 6400/19999]\n",
      "loss: 0.692724  [ 9600/19999]\n",
      "loss: 0.649614  [12800/19999]\n",
      "loss: 0.711229  [16000/19999]\n",
      "loss: 0.627015  [19200/19999]\n",
      "Test Error: \n",
      " Accuracy: 61.5%, Avg loss: 0.652758 \n",
      "\n",
      "Epoch 9\n",
      "-------------------------------\n",
      "loss: 0.663580  [    0/19999]\n",
      "loss: 0.675492  [ 3200/19999]\n",
      "loss: 0.585476  [ 6400/19999]\n",
      "loss: 0.593020  [ 9600/19999]\n",
      "loss: 0.629940  [12800/19999]\n",
      "loss: 0.642684  [16000/19999]\n",
      "loss: 0.789335  [19200/19999]\n",
      "Test Error: \n",
      " Accuracy: 62.1%, Avg loss: 0.642403 \n",
      "\n",
      "Epoch 10\n",
      "-------------------------------\n",
      "loss: 0.620852  [    0/19999]\n",
      "loss: 0.562502  [ 3200/19999]\n",
      "loss: 0.566206  [ 6400/19999]\n",
      "loss: 0.603667  [ 9600/19999]\n",
      "loss: 0.658523  [12800/19999]\n",
      "loss: 0.542215  [16000/19999]\n",
      "loss: 0.670399  [19200/19999]\n",
      "Test Error: \n",
      " Accuracy: 60.8%, Avg loss: 0.651316 \n",
      "\n",
      "Done!!\n"
     ]
    }
   ],
   "source": [
    "epochs = 10\n",
    "for t in range(epochs):\n",
    "    print(f\"Epoch {t+1}\\n-------------------------------\")\n",
    "    train(train_dl, model, loss_fn, optimizer)\n",
    "    test(test_dl, model, loss_fn)\n",
    "print(\"Done!!\")"
   ]
  },
  {
   "cell_type": "code",
   "execution_count": 14,
   "id": "0496f4ec-6eba-45b8-823c-bcda4116b482",
   "metadata": {},
   "outputs": [
    {
     "name": "stdout",
     "output_type": "stream",
     "text": [
      "Saved successfully!!\n"
     ]
    }
   ],
   "source": [
    "torch.save(model.state_dict(), 'model.pth')\n",
    "print(\"Saved successfully!!\")"
   ]
  },
  {
   "cell_type": "code",
   "execution_count": 15,
   "id": "f062c6e9-652f-4209-9235-ac6f0ddc6e04",
   "metadata": {},
   "outputs": [
    {
     "data": {
      "text/plain": [
       "<All keys matched successfully>"
      ]
     },
     "execution_count": 15,
     "metadata": {},
     "output_type": "execute_result"
    }
   ],
   "source": [
    "model1 = NeuralNetwork().to(device)\n",
    "model1.load_state_dict(torch.load(\"model.pth\"))"
   ]
  },
  {
   "cell_type": "code",
   "execution_count": 16,
   "id": "9e423219-5aae-41c3-b9d5-91dec4f5d944",
   "metadata": {},
   "outputs": [
    {
     "name": "stdout",
     "output_type": "stream",
     "text": [
      "Dog\n"
     ]
    },
    {
     "data": {
      "text/plain": [
       "-1"
      ]
     },
     "execution_count": 16,
     "metadata": {},
     "output_type": "execute_result"
    }
   ],
   "source": [
    "img = cv.imread(\"test1.jpg\")\n",
    "img_path = \"test1.jpg\"\n",
    "image = Image.open(img_path) \n",
    "cv.imshow(\"Test Image\", img)\n",
    "img_input = transform(image)\n",
    "img_input = img_input.view((1, 3, 64, 64))\n",
    "model1.eval()\n",
    "img_input = img_input.to(device)\n",
    "out = model1(img_input)\n",
    "out = out.argmax(1)\n",
    "if out == 0:\n",
    "    print(\"Cat\")\n",
    "else:\n",
    "    print(\"Dog\")\n",
    "cv.waitKey(0)"
   ]
  }
 ],
 "metadata": {
  "kernelspec": {
   "display_name": "Python 3 (ipykernel)",
   "language": "python",
   "name": "python3"
  },
  "language_info": {
   "codemirror_mode": {
    "name": "ipython",
    "version": 3
   },
   "file_extension": ".py",
   "mimetype": "text/x-python",
   "name": "python",
   "nbconvert_exporter": "python",
   "pygments_lexer": "ipython3",
   "version": "3.12.0"
  }
 },
 "nbformat": 4,
 "nbformat_minor": 5
}
